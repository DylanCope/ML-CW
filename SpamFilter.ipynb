{
 "cells": [
  {
   "cell_type": "markdown",
   "metadata": {},
   "source": [
    "# Spam Filter\n",
    "\n",
    "The objective of this is to create a classifier to distinguish between spam and non-spam (ham) emails."
   ]
  },
  {
   "cell_type": "code",
   "execution_count": 917,
   "metadata": {
    "collapsed": false
   },
   "outputs": [
    {
     "name": "stdout",
     "output_type": "stream",
     "text": [
      "3.5.2 |Continuum Analytics, Inc.| (default, Jul  5 2016, 11:41:13) [MSC v.1900 64 bit (AMD64)]\n"
     ]
    }
   ],
   "source": [
    "from glob import glob\n",
    "import pickle\n",
    "import sys\n",
    "print( sys.version )\n",
    "from IPython.display import clear_output\n",
    "\n",
    "import random\n",
    "import collections\n",
    "from functools import reduce, partial\n",
    "from itertools import chain, combinations, product\n",
    "from operator import methodcaller, contains\n",
    "from email.parser import Parser\n",
    "import re\n",
    "import numpy as np\n",
    "import matplotlib.pyplot as plt\n",
    "import matplotlib.pylab as pylab\n",
    "from sklearn.externals import joblib\n",
    "from sklearn.dummy import DummyClassifier\n",
    "from sklearn.naive_bayes import BernoulliNB, MultinomialNB\n",
    "from sklearn.model_selection import train_test_split, cross_val_score\n",
    "from sklearn.model_selection import KFold\n",
    "from sklearn.feature_extraction.text import CountVectorizer, TfidfVectorizer\n",
    "from sklearn.preprocessing import Normalizer\n",
    "from sklearn.decomposition import TruncatedSVD, PCA\n",
    "from sklearn.cluster import KMeans, MiniBatchKMeans\n",
    "from sklearn.tree import DecisionTreeClassifier\n",
    "\n",
    "def lmap(*args, **kwargs):\n",
    "    return [*map( *args, **kwargs )]\n",
    "\n",
    "pylab.rcParams['figure.figsize'] = (32.0, 24.0)\n",
    "pylab.rcParams['font.size'] = 24"
   ]
  },
  {
   "cell_type": "markdown",
   "metadata": {},
   "source": [
    "## Loading Data and Preprocessing\n",
    "\n",
    "The following cell defines two functions, `simplePreprocess` and `getEmails`. \n",
    "\n",
    "* The `getEmails` function reads in the emails in a given folder and applies a preprocessing algorithm to convert the raw text into a list of words. \n",
    "\n",
    "* The `simplePreprocess` function splits an email by whitespace and filters out non-alphabetical strings.\n",
    "\n",
    "The motivation for these functions is to allow for more advanced preprocessing techniques in the future."
   ]
  },
  {
   "cell_type": "code",
   "execution_count": 1011,
   "metadata": {
    "collapsed": false
   },
   "outputs": [],
   "source": [
    "def getEmails( folder = None, preprocess = lambda x : x ):\n",
    "    '''\n",
    "        Params:\n",
    "            folder: a string representing a folder\n",
    "            preprocess: a function that maps strings to strings\n",
    "        Returns:\n",
    "            A list where each item is an email in folder\n",
    "    '''\n",
    "    if folder:\n",
    "        files = lmap( open, glob( '%s/*.txt' % folder ) )\n",
    "        emails = [ preprocess( f.read() ) for f in files ]\n",
    "        map( methodcaller('close'), files )\n",
    "        return emails\n",
    "    else:\n",
    "        return getEmails( 'spam' ) + getEmails( 'ham' )\n",
    "\n",
    "def simplePreprocess( email ):\n",
    "    ''' \n",
    "        Params: \n",
    "            email: a string representing an email\n",
    "        Returns:\n",
    "            A string containing the substrings of email separated by\n",
    "            whitespace that are purely alphabetical composed of\n",
    "            characters.\n",
    "    '''\n",
    "    words = [ w for w in email.split() if w.isalpha() ]\n",
    "    return reduce( lambda x, y : '%s %s' % (x, y), words, '' )\n",
    "\n",
    "def getAllWords( emails ):\n",
    "    '''\n",
    "        Params: emails: a list of strings\n",
    "        Returns: Set of strings that appear separated \n",
    "            by whitespace in emails\n",
    "    '''\n",
    "    return set(sum( [ e.split() for e in emails ], [] ))\n",
    "\n",
    "def simpleFeatureWords( emails, n = 1000 ):\n",
    "    '''\n",
    "        Params:\n",
    "            emails: a list of strings\n",
    "            n: an integer\n",
    "        Returns: \n",
    "            A list containing at least n randomly selected \n",
    "            words in emails\n",
    "    '''\n",
    "    random.seed(0)\n",
    "    allWords = getAllWords( emails )\n",
    "    if n < len( allWords ):\n",
    "        return random.sample( allWords, n )\n",
    "    else:\n",
    "        return allWords\n",
    "    \n",
    "\n",
    "\n",
    "def getData():\n",
    "    ''' Returns a list of unprocessed emails and corresponding labels. '''\n",
    "    spam = getEmails( 'spam' )\n",
    "    ham = getEmails( 'ham' )\n",
    "    emails = np.array( spam + ham )\n",
    "    y = np.array( len( spam ) * [1] + len( ham ) * [0] )\n",
    "    return emails, y\n",
    "    \n",
    "    \n",
    "def unpackTraining( index, emails, y ):\n",
    "    ''' Unpacks training data from a KFold split '''\n",
    "    train_index, test_index = index\n",
    "    return emails[ train_index ], y[ train_index ]\n",
    "\n",
    "def unpackTesting( index, emails, y ):\n",
    "    ''' Unpacks testing data from a KFold split '''\n",
    "    train_index, test_index = index\n",
    "    return emails[ test_index ], y[ test_index ]\n",
    "    \n",
    "def transformEmail( featureWords, email ):\n",
    "    ''' \n",
    "        Returns a boolean vector describing feature \n",
    "        words that appear in an email. \n",
    "    '''\n",
    "    return lmap( partial( contains, email ), featureWords )\n",
    "    \n",
    "def transformEmails( featureWords, preprocess, emails ):\n",
    "    '''\n",
    "        Params:\n",
    "            featureWords: a list of strings\n",
    "            preprocess: a function from strings to strings\n",
    "            emails: a list of strings\n",
    "        Returns:\n",
    "            A matrix of boolean row vectors, where each row\n",
    "            corresponds to an email and each column corresponds\n",
    "            to a feature word.\n",
    "    '''\n",
    "    processed = lmap( preprocess, emails )\n",
    "    transform = partial( transformEmail, featureWords )\n",
    "    return np.matrix(lmap( transform, processed ))\n",
    "\n",
    "def simpleModel( emails, labels,\n",
    "                 getFeatureWords = simpleFeatureWords, \n",
    "                 preprocess = simplePreprocess,\n",
    "                 hyperparams = { 'alpha' : 1, 'class_prior' : [0.5, 0.5] }  ):\n",
    "    '''\n",
    "        Constructs a simple Naive Bayes Model.\n",
    "        Params:\n",
    "            emails: a list of strings\n",
    "            labels: a list of integers that are either 0 or 1\n",
    "            getFeatureWords: a function that maps a list of \n",
    "            strings to a list of strings\n",
    "            preprocess: a function that maps a string to a string\n",
    "            hyperparams: a dictionary that maps an 'alpha' to a number \n",
    "            and a 'class_prior' to a list of two numbers.\n",
    "        Returns:\n",
    "            clf: A trained Multinomial classifier\n",
    "            transform: a function that maps a list of strings to\n",
    "            a data matrix.\n",
    "            \n",
    "    '''\n",
    "    processed = lmap( preprocess, emails )\n",
    "    featureWords = getFeatureWords( processed )\n",
    "    transform = partial( transformEmails, featureWords, preprocess )\n",
    "    clf = MultinomialNB( **hyperparams )\n",
    "    X = transform( emails )\n",
    "    clf.fit( X, labels )\n",
    "    return clf, transform\n",
    "\n",
    "def crossValScore( model, n_splits = 5 ):\n",
    "    '''\n",
    "        Params:\n",
    "            model: This parameter is a function that takes a data matrix and\n",
    "            a labelling vector and returns a classifier and transformation\n",
    "            function. The classifier is an object that has a score method that\n",
    "            takes a data matrix and a labelling vector and returns a number.\n",
    "            The transformation function takes a list of totally unprocessed \n",
    "            emails and returns a data matrix.\n",
    "        Returns:\n",
    "            An array of scores corresponding to each CV fold.\n",
    "    '''\n",
    "    emails, y = getData()\n",
    "    split = KFold( n_splits = n_splits, \n",
    "                   shuffle = True, \n",
    "                   random_state = 0 ).split( emails )\n",
    "    scores = []\n",
    "    for index in split:\n",
    "        clf, transform = model( *unpackTraining( index, emails, y ) )\n",
    "        emails_test, y_test = unpackTesting( index, emails, y )\n",
    "        X_test = transform( emails_test )\n",
    "        scores += [ clf.score( X_test, y_test ) ]\n",
    "    \n",
    "    return np.array(scores)\n",
    "\n",
    "\n",
    "\n",
    "def plotHist( dist, title = '', xlabel = '', ylabel = '', color = 'b', \\\n",
    "              sortkey = lambda x : -x[1], ylim = [], xlim = [], rotation = 45, yerr = [],\n",
    "              error_kw = None, width = 0.5, figsize = (32.0, 7.0), spacing = 1 ):\n",
    "    '''\n",
    "        Plots a probablity distribution as a histogram\n",
    "    '''\n",
    "    items = list( dist.items() )\n",
    "    items.sort( key = sortkey )\n",
    "    names = [ k for k, v in items ]\n",
    "    counts = [ v for k, v in items ]\n",
    "\n",
    "    # Plot histogram using matplotlib bar().\n",
    "    indexes = np.arange(len(names)) * spacing\n",
    "    width = width\n",
    "    \n",
    "    fig = plt.figure( figsize = figsize )\n",
    "    ax = fig.add_subplot( 111 )\n",
    "    if error_kw != None:\n",
    "        ax.bar( indexes, counts, width, yerr = yerr, color = color, error_kw = error_kw )\n",
    "    else:\n",
    "        ax.bar( indexes, counts, width )\n",
    "    ax.set_xticks( indexes + width * 0.5 )\n",
    "    ax.set_xticklabels( names, rotation = rotation )\n",
    "    ax.set_title( title )\n",
    "    ax.set_xlabel( xlabel )\n",
    "    ax.set_ylabel( ylabel )\n",
    "    if xlim:\n",
    "        ax.set_xlim( xlim )\n",
    "    if ylim:\n",
    "        ax.set_ylim( ylim )\n",
    "    plt.show()\n",
    "\n",
    "def pickingFeatures( n, \n",
    "                     getAllFeatureWords = simpleFeatureWords, \n",
    "                     preprocess = simplePreprocess ):\n",
    "    print('picking %i features' % n)\n",
    "    clear_output( wait = True )\n",
    "    nFeatureWords = partial( getAllFeatureWords, n=n )\n",
    "    return crossValScore(partial( simpleModel, getFeatureWords = nFeatureWords ))"
   ]
  },
  {
   "cell_type": "code",
   "execution_count": 610,
   "metadata": {
    "collapsed": false
   },
   "outputs": [
    {
     "name": "stdout",
     "output_type": "stream",
     "text": [
      "picking 15000 features\n"
     ]
    }
   ],
   "source": [
    "xs = [ 1, 10, 20, 30, 40, 50, 75, 100, 150, 200, 250, 300, 350, 400, 450, 500, 750,\\\n",
    "       1000, 1500, 2000, 2500, 3000, 4000, 5000, 10000, 15000 ]\n",
    "mapping = { x : pickingFeatures(x) for x in xs }"
   ]
  },
  {
   "cell_type": "code",
   "execution_count": 656,
   "metadata": {
    "collapsed": false
   },
   "outputs": [
    {
     "data": {
      "image/png": "[encoded data removed]",
      "text/plain": [
       "<matplotlib.figure.Figure at 0x22f93e22eb8>"
      ]
     },
     "metadata": {},
     "output_type": "display_data"
    }
   ],
   "source": [
    "xy = dict( (x, scores.mean()) for x, scores in mapping.items() )\n",
    "yerr = [ scores.std() for x, scores in mapping.items() ]\n",
    "plotHist( xy, error_kw = dict(ecolor='gray', lw=2, capsize=5, capthick=2), \\\n",
    "          ylabel = 'Cross Validation Score', xlabel = 'Number of features', \\\n",
    "          color = 'b', sortkey = lambda x : x[0], ylim = [0.65, 0.95], xlim = [ -1, 80 ], \\\n",
    "          rotation = 30, yerr = yerr, width = 1.5, spacing = 3.1 )"
   ]
  },
  {
   "cell_type": "code",
   "execution_count": 876,
   "metadata": {
    "collapsed": false
   },
   "outputs": [
    {
     "name": "stdout",
     "output_type": "stream",
     "text": [
      "Accuracy: 0.886 (+/- 0.031)\n"
     ]
    }
   ],
   "source": [
    "def printAccuracy( scores ):\n",
    "    print('Accuracy: %0.3f (+/- %0.3f)' % (scores.mean(), scores.std()))\n",
    "\n",
    "nFeatureWords = partial( simpleFeatureWords, n=1000 )\n",
    "model = partial( simpleModel, getFeatureWords = nFeatureWords )\n",
    "scores = crossValScore( model )\n",
    "printAccuracy( scores )"
   ]
  },
  {
   "cell_type": "markdown",
   "metadata": {},
   "source": [
    "## Creating Dummy Classifiers for Comparison"
   ]
  },
  {
   "cell_type": "code",
   "execution_count": 759,
   "metadata": {
    "collapsed": false
   },
   "outputs": [
    {
     "name": "stdout",
     "output_type": "stream",
     "text": [
      "Accuracy: 0.492 (+/- 0.06)\n",
      "Accuracy: 0.800 (+/- 0.11)\n"
     ]
    }
   ],
   "source": [
    "def dummyTransform( emails ):\n",
    "    return np.matrix( [[True]] * len(emails) )\n",
    "\n",
    "def dummyModel( emails, labels, hyperparams ):\n",
    "    clf = DummyClassifier( random_state = 0, **hyperparams )\n",
    "    X = dummyTransform( emails )\n",
    "    clf.fit( X, labels )\n",
    "    return clf, dummyTransform\n",
    "\n",
    "for strategy in [ 'uniform', 'most_frequent' ]:\n",
    "    model = partial( dummyModel, hyperparams = { 'strategy' : strategy } )\n",
    "    printAccuracy( crossValScore( model, n_splits=10 ) )"
   ]
  },
  {
   "cell_type": "markdown",
   "metadata": {},
   "source": [
    "## Analysing Simple Email Features"
   ]
  },
  {
   "cell_type": "markdown",
   "metadata": {},
   "source": [
    "## Labelling and Feature Extraction\n",
    "\n",
    "The `getData` function takes a feature extraction function `featureExtract` as a parameter and a `preprocess` function as a parameter and returns a data matrix and a list of labels. Each row in the data matrix corresponds to an email and each column corresponds to a feature.\n",
    "\n",
    "The next step is to determine how many of the top most differentiating words to use for feature extraction. The `pickingFeatures` function takes an integer `n` and takes the top `n` most differentiating words and creates a data matrix by checking for the presence of those words in the emails. This is then used to train a `BernoulliNB` classifier and the function then returns the mean 5-fold cross validation score."
   ]
  },
  {
   "cell_type": "markdown",
   "metadata": {},
   "source": [
    "## More Advanced Preprocessing\n",
    "\n",
    "\n",
    "So far the preprocessing has been very minimal, the next step will be to separate the content of the emails from the formatting of the emails."
   ]
  },
  {
   "cell_type": "code",
   "execution_count": 909,
   "metadata": {
    "collapsed": true
   },
   "outputs": [],
   "source": [
    "def constructModel( emails, labels,\n",
    "                    preprocess = lambda x : x,\n",
    "                    hyperparams = {},\n",
    "                    vecparams = {},\n",
    "                    ret_vectorizer = False ):\n",
    "    '''\n",
    "        Constructs a Naive Bayes Model.\n",
    "        Params:\n",
    "            emails: a list of strings\n",
    "            labels: a list of integers that are either 0 or 1\n",
    "            getFeatureWords: a function that maps a list of \n",
    "            strings to a list of strings\n",
    "            preprocess: a function that maps a string to a string\n",
    "            hyperparams: a dictionary that maps an 'alpha' to a number \n",
    "            and a 'class_prior' to a list of two numbers.\n",
    "        Returns:\n",
    "            clf: A trained Multinomial classifier\n",
    "            transform (if not ret_vectorizer): a function that maps a \n",
    "            list of strings to a data matrix.\n",
    "            vectorizer (if ret_vectorizer): A fitted CountVectorizer\n",
    "    '''\n",
    "    vecdefaults = { 'binary'        : True, \n",
    "                    'preprocessor'  : preprocess, \n",
    "                    'token_pattern' : r'\\s+(\\b\\w+\\b*)\\s+', \n",
    "                    'strip_accents' : True, \n",
    "                    'lowercase'     : True }\n",
    "    vecparams = dict( (k, vecparams[k] if k in vecparams else vecdefaults[k]) \n",
    "                      for k in vecdefaults )\n",
    "    vectorizer = CountVectorizer( **vecparams )\n",
    "    vectorizer.fit( emails )\n",
    "    X = vectorizer.transform( emails )\n",
    "    \n",
    "    hyperdefaults = { 'alpha' : 1, 'class_prior' : [0.5, 0.5] }\n",
    "    hyperparams = dict( (k, hyperparams[k] if k in hyperparams else hyperdefaults[k]) \n",
    "                      for k in hyperdefaults )\n",
    "    clf = MultinomialNB( **hyperparams )\n",
    "    clf.fit( X, labels )\n",
    "    if ret_vectorizer:\n",
    "        return clf, vectorizer\n",
    "    return clf, vectorizer.transform"
   ]
  },
  {
   "cell_type": "code",
   "execution_count": 803,
   "metadata": {
    "collapsed": false
   },
   "outputs": [
    {
     "name": "stdout",
     "output_type": "stream",
     "text": [
      "Accuracy: 0.886 (+/- 0.03)\n"
     ]
    }
   ],
   "source": [
    "printAccuracy(crossValScore( simpleModel ))"
   ]
  },
  {
   "cell_type": "code",
   "execution_count": 842,
   "metadata": {
    "collapsed": false
   },
   "outputs": [
    {
     "name": "stdout",
     "output_type": "stream",
     "text": [
      "Accuracy: 0.880 (+/- 0.03)\n"
     ]
    }
   ],
   "source": [
    "printAccuracy(crossValScore( constructModel ))"
   ]
  },
  {
   "cell_type": "code",
   "execution_count": 843,
   "metadata": {
    "collapsed": false
   },
   "outputs": [
    {
     "name": "stdout",
     "output_type": "stream",
     "text": [
      "Accuracy: 0.910 (+/- 0.02)\n"
     ]
    }
   ],
   "source": [
    "vecparams = { 'token_pattern' : r'\\b\\w+\\b' } # tokenize by words\n",
    "model = partial( constructModel, vecparams = vecparams )\n",
    "printAccuracy(crossValScore( model ))"
   ]
  },
  {
   "cell_type": "code",
   "execution_count": 846,
   "metadata": {
    "collapsed": false
   },
   "outputs": [
    {
     "name": "stdout",
     "output_type": "stream",
     "text": [
      "Accuracy: 0.912 (+/- 0.01)\n"
     ]
    }
   ],
   "source": [
    "vecparams = { 'token_pattern' : r'\\b\\w\\w+\\b' } # tokenize by words\n",
    "model = partial( constructModel, vecparams = vecparams )\n",
    "printAccuracy(crossValScore( model ))"
   ]
  },
  {
   "cell_type": "code",
   "execution_count": 662,
   "metadata": {
    "collapsed": false,
    "scrolled": false
   },
   "outputs": [
    {
     "name": "stdout",
     "output_type": "stream",
     "text": [
      "Accuracy: 0.922 (+/- 0.05)\n"
     ]
    }
   ],
   "source": [
    "def countVectorizing( preprocessor = lambda x : x ):\n",
    "    spamEmails = getEmails( 'spam' ) \n",
    "    hamEmails = getEmails( 'ham' )\n",
    "    emails = spamEmails + hamEmails\n",
    "    vectorizer = CountVectorizer( binary = True, preprocessor = preprocessor )\n",
    "    vectorizer.fit( spamEmails )\n",
    "    X = vectorizer.transform( emails )\n",
    "    y = len( spamEmails ) * [0] + len( hamEmails ) * [1]\n",
    "    clf = MultinomialNB()\n",
    "    scores = cross_val_score( clf, X, y, cv=5 )\n",
    "    print(\"Accuracy: %0.3f (+/- %0.2f)\" % (scores.mean(), scores.std() * 2))\n",
    "    return vectorizer\n",
    "\n",
    "vectorizer = countVectorizing()"
   ]
  },
  {
   "cell_type": "code",
   "execution_count": 1070,
   "metadata": {
    "collapsed": false
   },
   "outputs": [],
   "source": [
    "def multipartContent( email ):\n",
    "    payload = email.get_payload()\n",
    "    content = [ multipartContent(x) if x.is_multipart() else x.get_payload() for x in payload ]\n",
    "    return reduce( lambda x, y : x + ' ' + y, content, '' )\n",
    "\n",
    "def contentOnly( e ):\n",
    "    parser = Parser()\n",
    "    email = parser.parsestr(e)\n",
    "    content = email.get_payload()\n",
    "    if email.is_multipart():\n",
    "        return multipartContent( email )\n",
    "    return content\n",
    "\n",
    "def contentAndRelevantHeaders( text ):\n",
    "    content = contentOnly( text )\n",
    "    parser = Parser()\n",
    "    email = parser.parsestr( text )\n",
    "    headers = []\n",
    "    for k, v in email.items():\n",
    "        if k in [ 'Subject', 'To', 'From'  ]:\n",
    "            headers.append( v )\n",
    "    return reduce( lambda x, y : '%s %s' % (y, x), headers + [content], '' )\n",
    "\n",
    "def processSymbols( text ):\n",
    "    text = re.sub( r'__+', ' multiscore ', text )\n",
    "    text = re.sub( r'\\*(\\*)+', ' multistar ', text )\n",
    "    text = re.sub( r'\\!(\\!)+', ' multibang ', text )\n",
    "    text = re.sub( r'\\?(\\?)+', ' multiques ', text )\n",
    "    text = re.sub( r'\\.(\\.)+', ' multidots ', text )\n",
    "    text = re.sub( r'#(#)+', ' multihash ', text )\n",
    "    text = re.sub( r'-(-)+', ' multidash ', text )\n",
    "    text = text.replace( '$', ' money ' )\n",
    "    text = text.replace( '£', ' money ' )\n",
    "    text = text.replace( '!', ' bang ' )\n",
    "    text = text.replace( '%', ' percent ' )\n",
    "    text = text.replace( '&', ' and ' )\n",
    "    for symbol in [ '.', ',', '@', '_', '<', '>', '{', '}' '\\\\', '/', '#', '^', '=', \\\n",
    "                    '(', ')', '\"', ':', ';', '~', '+', '*', '?', '[', ']', '\\%' ]:\n",
    "        text = text.replace( symbol, ' ' )\n",
    "    return text\n",
    "\n",
    "def hasNumbers( string ):\n",
    "    return any( c.isdigit() for c in string )\n",
    "\n",
    "def isNumber( string ):\n",
    "    return string.replace('.', '').isdigit()\n",
    "\n",
    "def isAscii(s):\n",
    "    return all(ord(c) < 128 for c in s)\n",
    "\n",
    "def processNumerics( text ):\n",
    "    words = text.split()\n",
    "    words = [ 'num'      if isNumber(w)    else w for w in words ]\n",
    "    words = [ 'alphanum' if hasNumbers(w)  else w for w in words ]\n",
    "    words = [ 'nonascii' if not isAscii(w) else w for w in words ]\n",
    "    return reduce( lambda x, y : '%s %s' % (x, y), words, '' )\n",
    "\n",
    "def processHyperlinks( text ):\n",
    "    text = re.sub(\n",
    "        r'^(?:http|ftp)s?://' # http:// or https://\n",
    "        r'(?:(?:[A-Z0-9](?:[A-Z0-9-]{0,61}[A-Z0-9])?\\.)+(?:[A-Z]{2,6}\\.?|[A-Z0-9-]{2,}\\.?)|' #domain...\n",
    "        r'localhost|' # localhost...\n",
    "        r'\\d{1,3}\\.\\d{1,3}\\.\\d{1,3}\\.\\d{1,3})' # ...or ip\n",
    "        r'(?::\\d+)?' # optional port\n",
    "        r'(?:/?|[/?]\\S+)$', ' hyperlink ', text )\n",
    "    text = re.sub( r'^https?:\\/\\/.*[\\r\\n]*', ' hyperlink ', text )\n",
    "    text = re.sub( r'<.*?>', ' htmltag ', text )\n",
    "    return text\n",
    "\n",
    "def isAllCaps( string ):\n",
    "    return all(map( methodcaller('isupper'), string ))\n",
    "\n",
    "def processCapitals( text ):\n",
    "    words = text.split()\n",
    "    words = [ ' allcaps %s ' % w if isAllCaps(w) else w for w in words ]\n",
    "    words = map( methodcaller('lower'), words )\n",
    "    return reduce( lambda x, y : '%s %s' % (x, y), words, '' )\n",
    "\n",
    "def advancedPreprocess( email ):\n",
    "    text = contentAndRelevantHeaders( email )\n",
    "    text = processHyperlinks( text )\n",
    "    text = processNumerics( text )\n",
    "    text = processSymbols( text )\n",
    "    text = processCapitals( text )\n",
    "    words = [ w for w in text.split() if 20 > len(w) > 1 ]\n",
    "    return reduce( lambda x, y : '%s %s' % (x, y), words, '' ) "
   ]
  },
  {
   "cell_type": "code",
   "execution_count": 856,
   "metadata": {
    "collapsed": false
   },
   "outputs": [
    {
     "name": "stdout",
     "output_type": "stream",
     "text": [
      "Accuracy: 0.916 (+/- 0.02)\n"
     ]
    }
   ],
   "source": [
    "vecparams = { 'token_pattern' : r'\\b\\w\\w+\\b' }\n",
    "model = partial( constructModel, \n",
    "                 preprocess = contentOnly,\n",
    "                 vecparams = vecparams )\n",
    "printAccuracy(crossValScore( model ))"
   ]
  },
  {
   "cell_type": "code",
   "execution_count": 854,
   "metadata": {
    "collapsed": false
   },
   "outputs": [
    {
     "name": "stdout",
     "output_type": "stream",
     "text": [
      "Accuracy: 0.930 (+/- 0.02)\n"
     ]
    }
   ],
   "source": [
    "model = partial( constructModel, \n",
    "                 preprocess = contentAndRelevantHeaders,\n",
    "                 vecparams = vecparams )\n",
    "printAccuracy(crossValScore( model ))"
   ]
  },
  {
   "cell_type": "code",
   "execution_count": 857,
   "metadata": {
    "collapsed": false
   },
   "outputs": [
    {
     "name": "stdout",
     "output_type": "stream",
     "text": [
      "Accuracy: 0.916 (+/- 0.01)\n"
     ]
    }
   ],
   "source": [
    "model = partial( constructModel, \n",
    "                 preprocess = processSymbols,\n",
    "                 vecparams = vecparams )\n",
    "printAccuracy(crossValScore( model ))"
   ]
  },
  {
   "cell_type": "code",
   "execution_count": 859,
   "metadata": {
    "collapsed": false
   },
   "outputs": [
    {
     "name": "stdout",
     "output_type": "stream",
     "text": [
      "Accuracy: 0.932 (+/- 0.02)\n"
     ]
    }
   ],
   "source": [
    "model = partial( constructModel, \n",
    "                 preprocess = processNumerics,\n",
    "                 vecparams = vecparams )\n",
    "printAccuracy(crossValScore( model ))"
   ]
  },
  {
   "cell_type": "code",
   "execution_count": 858,
   "metadata": {
    "collapsed": false
   },
   "outputs": [
    {
     "name": "stdout",
     "output_type": "stream",
     "text": [
      "Accuracy: 0.914 (+/- 0.03)\n"
     ]
    }
   ],
   "source": [
    "model = partial( constructModel, \n",
    "                 preprocess = processCapitals,\n",
    "                 vecparams = vecparams )\n",
    "printAccuracy(crossValScore( model ))"
   ]
  },
  {
   "cell_type": "code",
   "execution_count": 883,
   "metadata": {
    "collapsed": false
   },
   "outputs": [
    {
     "name": "stdout",
     "output_type": "stream",
     "text": [
      "Accuracy: 0.938 (+/- 0.027)\n"
     ]
    }
   ],
   "source": [
    "model = partial( constructModel, \n",
    "                 preprocess = advancedPreprocess,\n",
    "                 vecparams = vecparams )\n",
    "printAccuracy(crossValScore( model ))"
   ]
  },
  {
   "cell_type": "code",
   "execution_count": 1072,
   "metadata": {
    "collapsed": false
   },
   "outputs": [],
   "source": [
    "emails, labels = getData()\n",
    "\n",
    "vecparams = { 'binary'        : True, \n",
    "                'preprocessor'  : advancedPreprocess, \n",
    "                'token_pattern' : r'\\b\\w\\w+\\b', \n",
    "                'strip_accents' : True, \n",
    "                'lowercase'     : True }\n",
    "vectorizer = CountVectorizer( **vecparams )\n",
    "vectorizer.fit( emails )\n",
    "X = vectorizer.transform( emails )\n",
    "\n",
    "hyperparams = { 'alpha' : 0.7, 'class_prior' : [0.9, 0.1] }\n",
    "clf = MultinomialNB( **hyperparams )\n",
    "clf.fit( X, labels )\n",
    "\n",
    "# printAccuracy(crossValScore( lambda es, ls : clf, vectorizer.transform ))\n",
    "joblib.dump( clf, 'classifier.dat' )\n",
    "with open( 'vocab.txt', 'w' ) as f:\n",
    "    for w in vectorizer.get_feature_names():\n",
    "        f.write( '%s\\n' % w )"
   ]
  },
  {
   "cell_type": "code",
   "execution_count": 1065,
   "metadata": {
    "collapsed": false
   },
   "outputs": [
    {
     "name": "stdout",
     "output_type": "stream",
     "text": [
      "Help on function dump in module sklearn.externals.joblib.numpy_pickle:\n",
      "\n",
      "dump(value, filename, compress=0, protocol=None, cache_size=None)\n",
      "    Persist an arbitrary Python object into one file.\n",
      "    \n",
      "    Parameters\n",
      "    -----------\n",
      "    value: any Python object\n",
      "        The object to store to disk.\n",
      "    filename: str or pathlib.Path\n",
      "        The path of the file in which it is to be stored. The compression\n",
      "        method corresponding to one of the supported filename extensions ('.z',\n",
      "        '.gz', '.bz2', '.xz' or '.lzma') will be used automatically.\n",
      "    compress: int from 0 to 9 or bool or 2-tuple, optional\n",
      "        Optional compression level for the data. 0 or False is no compression.\n",
      "        Higher value means more compression, but also slower read and\n",
      "        write times. Using a value of 3 is often a good compromise.\n",
      "        See the notes for more details.\n",
      "        If compress is True, the compression level used is 3.\n",
      "        If compress is a 2-tuple, the first element must correspond to a string\n",
      "        between supported compressors (e.g 'zlib', 'gzip', 'bz2', 'lzma'\n",
      "        'xz'), the second element must be an integer from 0 to 9, corresponding\n",
      "        to the compression level.\n",
      "    protocol: positive int\n",
      "        Pickle protocol, see pickle.dump documentation for more details.\n",
      "    cache_size: positive int, optional\n",
      "        This option is deprecated in 0.10 and has no effect.\n",
      "    \n",
      "    Returns\n",
      "    -------\n",
      "    filenames: list of strings\n",
      "        The list of file names in which the data is stored. If\n",
      "        compress is false, each array is stored in a different file.\n",
      "    \n",
      "    See Also\n",
      "    --------\n",
      "    joblib.load : corresponding loader\n",
      "    \n",
      "    Notes\n",
      "    -----\n",
      "    Memmapping on load cannot be used for compressed files. Thus\n",
      "    using compression can significantly slow down loading. In\n",
      "    addition, compressed files take extra extra memory during\n",
      "    dump and load.\n",
      "\n"
     ]
    }
   ],
   "source": [
    "help( joblib.dump )"
   ]
  },
  {
   "cell_type": "code",
   "execution_count": 1058,
   "metadata": {
    "collapsed": false
   },
   "outputs": [],
   "source": [
    "def probabilities( emails, words ):\n",
    "    '''\n",
    "        Given a list were each item is a list of words,\n",
    "        returns a dictionary that map words to probabilties\n",
    "    '''\n",
    "    ws = sum( [ [ w for w in e.split() if w in words ] for e in emails ], [] )\n",
    "    counter = collections.Counter( ws )\n",
    "    return { k : v / len( ws ) for k, v in counter.items() }\n",
    "\n",
    "# def getMostProbable( dist, t ):\n",
    "#     '''\n",
    "#         Given a probability distribution and a number of instances to get,\n",
    "#         returns the n most probable instances\n",
    "#     '''\n",
    "#     maxV = max( dist.values() )\n",
    "#     return { k : v for k, v in dist.items() if v >= t * maxV }\n",
    "    \n",
    "def histDifference( h1, h2 ):\n",
    "    '''\n",
    "        Given two probability distributions,\n",
    "        returns a new distribution representing a key-wise difference\n",
    "    '''\n",
    "    return { k : h1[ k ] - h2[ k ] for k in h1.keys() if k in h2 }\n",
    "\n",
    "# def getMostIdentifying( spam, ham, words ):\n",
    "#     spamProbs = probabilities( spam, words )\n",
    "#     hamProbs  = probabilities( ham, words )\n",
    "#     spamHamDiff = histDifference( spamProbs, hamProbs )\n",
    "#     hamSpamDiff = histDifference( hamProbs, spamProbs )\n",
    "#     return dict( ( k, abs( spamHamDiff[k] - hamSpamDiff[k] ) ) \n",
    "#                   for k in chain( hamSpamDiff, spamHamDiff ) )\n",
    "\n",
    "def getFeatureWords( emails, labels ):\n",
    "    spam = [ e for e, l in zip( emails, labels ) if l == 1 ]\n",
    "    ham  = [ e for e, l in zip( emails, labels ) if l == 0 ]\n",
    "    words = getAllWords( emails )\n",
    "    spamProbs = probabilities( spam, words )\n",
    "    hamProbs  = probabilities( ham, words )\n",
    "    spamHamDiff = histDifference( spamProbs, hamProbs )\n",
    "    hamSpamDiff = histDifference( hamProbs, spamProbs )\n",
    "    mostIdentifying = dict( ( k, max( abs(spamHamDiff[k]), abs(hamSpamDiff[k]) ) ) \n",
    "                             for k in chain( hamSpamDiff, spamHamDiff ) )\n",
    "    \n",
    "    return mostIdentifying\n"
   ]
  },
  {
   "cell_type": "code",
   "execution_count": 1063,
   "metadata": {
    "collapsed": true
   },
   "outputs": [],
   "source": [
    "class WeightedMultinomialNB( MultinomialNB ):\n",
    "    \n",
    "    def __init__( self, weights, **kwargs ):\n",
    "        super( WeightedMultinomialNB, self ).__init__( **kwargs )\n",
    "        self.weights = np.array(weights)\n",
    "    \n",
    "    def _update_feature_log_prob( self ):\n",
    "        ''' Weight the feature logarithm probabilities '''\n",
    "        super( WeightedMultinomialNB, self )._update_feature_log_prob()\n",
    "        self.feature_log_prob_ += np.log(1 + 10 * self.weights)\n",
    "        "
   ]
  },
  {
   "cell_type": "code",
   "execution_count": 1056,
   "metadata": {
    "collapsed": true
   },
   "outputs": [],
   "source": [
    "def advancedModel( emails, labels,\n",
    "                      vecparams = {},\n",
    "                      hyperparams = {} ):\n",
    "    \n",
    "    processed = lmap( advancedPreprocess, emails )\n",
    "    featureWords = getFeatureWords( emails, labels )\n",
    "    \n",
    "    vecdefaults = { 'binary'        : True, \n",
    "                    'preprocessor'  : advancedPreprocess, \n",
    "                    'token_pattern' : r'\\b\\w\\w+\\b', \n",
    "                    'strip_accents' : True, \n",
    "                    'lowercase'     : True }\n",
    "    vecparams = dict( (k, vecparams[k] if k in vecparams else vecdefaults[k]) \n",
    "                      for k in vecdefaults )\n",
    "    \n",
    "    vectorizer = CountVectorizer( vocabulary = list(featureWords.keys()), \n",
    "                                 **vecparams )\n",
    "    vectorizer.fit( emails )\n",
    "    X = vectorizer.transform( emails )\n",
    "    print(X.shape)\n",
    "    hyperdefaults = { 'alpha' : 0.7, 'class_prior' : [0.8, 0.2] }\n",
    "    hyperparams = dict( (k, hyperparams[k] if k in hyperparams else hyperdefaults[k]) \n",
    "                      for k in hyperdefaults )\n",
    "    clf = WeightedMultinomialNB( list(featureWords.values()), **hyperparams )\n",
    "    clf.fit( X, labels )\n",
    "    \n",
    "    return clf, vectorizer.transform"
   ]
  },
  {
   "cell_type": "code",
   "execution_count": 1064,
   "metadata": {
    "collapsed": false
   },
   "outputs": [
    {
     "name": "stdout",
     "output_type": "stream",
     "text": [
      "(400, 4170)\n",
      "(400, 3957)\n",
      "(400, 4009)\n",
      "(400, 3896)\n",
      "(400, 4059)\n",
      "Accuracy: 0.956 (+/- 0.021)\n"
     ]
    }
   ],
   "source": [
    "printAccuracy(crossValScore( advancedModel ) )"
   ]
  },
  {
   "cell_type": "code",
   "execution_count": 984,
   "metadata": {
    "collapsed": true
   },
   "outputs": [],
   "source": [
    "def alternativeModel( emails, labels,\n",
    "                      vecparams = {},\n",
    "                      hyperparams = {} ):\n",
    "    \n",
    "    processed = lmap( advancedPreprocess, emails )\n",
    "    featureWords = getFeatureWords( emails, labels, )\n",
    "    \n",
    "    vecdefaults = { 'binary'        : True, \n",
    "                    'preprocessor'  : advancedPreprocess, \n",
    "                    'token_pattern' : r'\\b\\w\\w+\\b', \n",
    "                    'strip_accents' : True, \n",
    "                    'lowercase'     : True }\n",
    "    vecparams = dict( (k, vecparams[k] if k in vecparams else vecdefaults[k]) \n",
    "                      for k in vecdefaults )\n",
    "    \n",
    "    vectorizer = CountVectorizer( vocabulary = featureWords, **vecparams )\n",
    "    vectorizer.fit( emails )\n",
    "    X = vectorizer.transform( emails )\n",
    "    print(X.shape)\n",
    "    clf = DecisionTreeClassifier( **hyperparams )\n",
    "    clf.fit( X, labels )\n",
    "    \n",
    "    return clf, vectorizer.transform"
   ]
  },
  {
   "cell_type": "code",
   "execution_count": 985,
   "metadata": {
    "collapsed": false
   },
   "outputs": [
    {
     "name": "stdout",
     "output_type": "stream",
     "text": [
      "(400, 1000)\n",
      "(400, 1000)\n",
      "(400, 1000)\n",
      "(400, 1000)\n",
      "(400, 1000)\n",
      "Accuracy: 0.840 (+/- 0.033)\n"
     ]
    }
   ],
   "source": [
    "hyperparams = {\n",
    "    'class_weight' : { 1 : 0.1, 0 : 0.9 },\n",
    "    'criterion'    : 'entropy',\n",
    "    'max_features' : 0.7,\n",
    "    'max_depth'    : None\n",
    "}\n",
    "model = partial( alternativeModel, hyperparams = hyperparams )\n",
    "printAccuracy(crossValScore( model ))"
   ]
  },
  {
   "cell_type": "code",
   "execution_count": 956,
   "metadata": {
    "collapsed": true
   },
   "outputs": [],
   "source": [
    "def computeHyperparamSurface( modelConstructor, hyperparamSpace ):\n",
    "    '''\n",
    "        Params:\n",
    "            modelConstructor: function that returns a classifier and \n",
    "            transform function\n",
    "            hyperparamSpace: dictionary mapping kwargs to parameter spaces\n",
    "        Returns:\n",
    "            Meshgrid xx, yy that map to surface zz\n",
    "        Example:\n",
    "            hyperparamSpace = {\n",
    "                'max_depth' : [100, 500, 1000],\n",
    "                'max_features' : [100, 500, 1000]\n",
    "            }\n",
    "            xx, yy, zz = computeHyperparamSurface( alternativeModel, hyperparamSpace )\n",
    "    '''\n",
    "    xx, yy = pylab.meshgrid( *hyperparamSpace.values() )\n",
    "    keys = hyperparamSpace.keys()\n",
    "    zz = np.zeros( xx.shape )\n",
    "    for i, j in product(*map(range, xx.shape )):\n",
    "        hyperparams = dict(zip( keys, [ xx[ i, j ], yy[ i, j ] ]))\n",
    "        model = partial( modelConstructor, hyperparams = hyperparams )\n",
    "        zz[ i, j ] = crossValScore( model ).mean()\n",
    "        \n",
    "    return xx, yy, zz\n",
    "\n",
    "def visualiseHyperparamSurface( xx, yy, zz ):\n",
    "    fig, ax = plt.subplots()\n",
    "    ax.set_ylabel( 'Parameter 1' )\n",
    "    ax.set_xlabel( 'Parameter 2' )\n",
    "    ax.set_xlim([ np.min(xx), 2*np.max(xx) ])\n",
    "    ax.set_ylim([ np.min(yy), 2*np.max(yy) ])\n",
    "    cax = ax.pcolor( xx, yy, zz, cmap='viridis' )\n",
    "    fig.colorbar( cax  )\n",
    "    plt.show()"
   ]
  },
  {
   "cell_type": "code",
   "execution_count": null,
   "metadata": {
    "collapsed": false
   },
   "outputs": [],
   "source": [
    "hyperparamSpace = {\n",
    "    'max_depth' : [1000, 2000],\n",
    "    'max_features' : [1000, 2000]\n",
    "}\n",
    "xx, yy, zz = computeHyperparamSurface( alternativeModel, hyperparamSpace )"
   ]
  },
  {
   "cell_type": "code",
   "execution_count": 65,
   "metadata": {
    "collapsed": false
   },
   "outputs": [],
   "source": [
    "xy = dict( (x, scores.mean()) for x, scores in mapping.items() )\n",
    "yerr = [ scores.std() for x, scores in mapping.items() ]\n",
    "plotHist( xy, error_kw = dict(ecolor='gray', lw=2, capsize=5, capthick=2), \\\n",
    "          ylabel = 'Cross Validation Score', xlabel = 'Number of features', \\\n",
    "          color = 'b', sortkey = lambda x : x[0], ylim = [0.65, 0.95], xlim = [ -1, 80 ], \\\n",
    "          rotation = 30, yerr = yerr, width = 1.5, spacing = 3.1 )"
   ]
  },
  {
   "cell_type": "markdown",
   "metadata": {},
   "source": [
    "## Dimensionality Reduction"
   ]
  },
  {
   "cell_type": "code",
   "execution_count": 488,
   "metadata": {
    "collapsed": true
   },
   "outputs": [],
   "source": [
    "def idealGridSize( n ):\n",
    "    bound = 1 + int(np.ceil(np.sqrt( n )))\n",
    "    size = (1, n)\n",
    "    for i in range( 1, bound ):\n",
    "        if not n % i:\n",
    "            j = n // i\n",
    "            size = (i, j)\n",
    "    return size\n",
    "\n",
    "def showScatters( scatters, labels, orientation = 'horizontal' ):\n",
    "    l = len( scatters )\n",
    "    if orientation == 'vertical':\n",
    "        ncols, nrows = idealGridSize( l )\n",
    "    else:\n",
    "        nrows, ncols = idealGridSize( l )\n",
    "        \n",
    "    fig = plt.figure()\n",
    "    for plotnum in range( ncols * nrows ):\n",
    "        ax = fig.add_subplot( nrows, ncols, plotnum + 1 )\n",
    "        ax.axis( 'off' )\n",
    "        xs, ys, features = scatters[ plotnum ]\n",
    "        ax.set_title( \"f%i f%i\" % features )\n",
    "        ax.scatter( xs, ys, 5, color=labels )\n",
    "    fig.tight_layout()\n",
    "    plt.show()\n",
    "\n",
    "def getFeatureScatters( X, n ):\n",
    "    \n",
    "    scatters = []\n",
    "    \n",
    "    for f1, f2 in combinations( range(1, n), 2 ):\n",
    "        scatters.append(( X[ :, f1 ], X[ :, f2 ], (f1, f2) ))\n",
    "        clear_output( wait = True )\n",
    "        \n",
    "    return scatters"
   ]
  },
  {
   "cell_type": "code",
   "execution_count": 490,
   "metadata": {
    "collapsed": false
   },
   "outputs": [],
   "source": [
    "spamEmails = getEmails( 'spam' ) \n",
    "hamEmails = getEmails( 'ham' )\n",
    "emails = spamEmails + hamEmails\n",
    "\n",
    "vectorizer = CountVectorizer( min_df = 1,\n",
    "                              preprocessor = advancedPreprocess )\n",
    "dtm = vectorizer.fit_transform( spamEmails )\n",
    "\n",
    "# svd = TruncatedSVD( 50, algorithm = 'arpack' )\n",
    "# dtm_svd = svd.fit_transform( dtm )\n",
    "\n",
    "# pca = PCA( n_components = 10, svd_solver = 'full' )\n",
    "# pca.fit( dtm_svd )\n",
    "\n",
    "# T = [ vectorizer, svd, pca ]\n",
    "# X = reduce( lambda x, y : y.transform(x), T, emails )\n",
    "# # X = pca.transform(svd.transform(vectorizer.transform(emails)))\n",
    "\n",
    "# labels = ['r'] * len(spamEmails) + ['b'] * len(hamEmails)\n",
    "# showScatters( getFeatureScatters( X, pca.n_components_ ), labels )"
   ]
  },
  {
   "cell_type": "code",
   "execution_count": 795,
   "metadata": {
    "collapsed": false
   },
   "outputs": [
    {
     "name": "stdout",
     "output_type": "stream",
     "text": [
      "Accuracy: 0.934 (+/- 0.05)\n"
     ]
    }
   ],
   "source": [
    "spamEmails = getEmails( 'spam' ) \n",
    "hamEmails = getEmails( 'ham' )\n",
    "emails = spamEmails + hamEmails\n",
    "vectorizer = CountVectorizer( binary = True, preprocessor = advancedPreprocess )\n",
    "vectorizer.fit( spamEmails )\n",
    "X = vectorizer.transform( emails )\n",
    "y = len( spamEmails ) * [0] + len( hamEmails ) * [1]\n",
    "clf = MultinomialNB()\n",
    "scores = cross_val_score( clf, X, y, cv=5 )\n",
    "print(\"Accuracy: %0.3f (+/- %0.2f)\" % (scores.mean(), scores.std() * 2))"
   ]
  },
  {
   "cell_type": "code",
   "execution_count": 850,
   "metadata": {
    "collapsed": false
   },
   "outputs": [
    {
     "name": "stdout",
     "output_type": "stream",
     "text": [
      "Accuracy: 0.958 (+/- 0.03)\n"
     ]
    }
   ],
   "source": [
    "with open( 'vocab.txt' ) as f:\n",
    "    vocab = sum( [ l.split() for l in f.readlines() ], [] )\n",
    "\n",
    "vectorizer = CountVectorizer( binary = True, vocabulary = vocab, preprocessor = advancedPreprocess )\n",
    "spamEmails = getEmails( 'spam' ) \n",
    "hamEmails = getEmails( 'ham' )\n",
    "emails = spamEmails + hamEmails\n",
    "X = vectorizer.transform( emails )\n",
    "y = len( spamEmails ) * [0] + len( hamEmails ) * [1] \n",
    "clf = MultinomialNB( alpha = 0.7, class_prior = [ 0.81, 0.19 ] )\n",
    "scores = cross_val_score( clf, X, y, cv=5 )\n",
    "print(\"Accuracy: %0.3f (+/- %0.2f)\" % (scores.mean(), scores.std() * 2))"
   ]
  },
  {
   "cell_type": "code",
   "execution_count": 154,
   "metadata": {
    "collapsed": false,
    "scrolled": false
   },
   "outputs": [],
   "source": [
    "with open( 'vocab.txt' ) as f:\n",
    "    vocab = sum( [ l.split() for l in f.readlines() ], [] )\n",
    "\n",
    "vectorizer = CountVectorizer( binary = True, vocabulary = vocab, preprocessor = advancedPreprocess )\n",
    "spamEmails = getEmails( 'spam' ) \n",
    "hamEmails = getEmails( 'ham' )\n",
    "emails = spamEmails + hamEmails\n",
    "X = vectorizer.transform( emails )\n",
    "y = len( spamEmails ) * [0] + len( hamEmails ) * [1] \n",
    "\n",
    "def score( params ):\n",
    "    return cross_val_score( MultinomialNB( **params ), X, y, cv=5 ).mean()\n",
    "    \n",
    "def scoreParams( paramSpace ):\n",
    "    keys = map( tuple, map( methodcaller('values'), paramSpace ) )\n",
    "    return dict(zip( keys, map( score, paramSpace ) ))\n",
    "# params = [{\n",
    "#     'alpha' : alpha, 'fit_prior' : fit_prior, 'class_prior' : ( class_prior, 1 - class_prior )\n",
    "#     } for alpha in alphas\n",
    "#       for fit_prior in [ True, False ] \n",
    "#       for class_prior in class_priors\n",
    "# ]\n",
    "# mapping = scoreParams( params )\n",
    "# items = list(mapping.items())\n",
    "# items.sort( key = lambda x : -x[1] )"
   ]
  },
  {
   "cell_type": "code",
   "execution_count": 193,
   "metadata": {
    "collapsed": false
   },
   "outputs": [],
   "source": [
    "step = 0.01\n",
    "alphas = np.arange( 0.1, 2, step ) \n",
    "class_priors = np.arange( 0.1, 0.9, step )\n",
    "\n",
    "xx, yy = pylab.meshgrid( alphas, class_priors )\n",
    "zz = np.zeros( xx.shape )\n",
    "for i, j in product(*map(range, xx.shape )):\n",
    "    params = {\n",
    "        'alpha' : xx[ i, j ], 'fit_prior' : True, \n",
    "        'class_prior' : ( yy[ i, j ], 1 - yy[ i, j ] )\n",
    "    }\n",
    "    zz[ i, j ] = score( params )"
   ]
  },
  {
   "cell_type": "code",
   "execution_count": 902,
   "metadata": {
    "collapsed": false
   },
   "outputs": [
    {
     "data": {
      "image/png": "[encoded data removed]",
      "text/plain": [
       "<matplotlib.figure.Figure at 0x22f997e94e0>"
      ]
     },
     "metadata": {},
     "output_type": "display_data"
    }
   ],
   "source": [
    "fig, ax = plt.subplots( figsize = (20, 8) )\n",
    "ax.set_xlim([ 0.1, 1.99 ])\n",
    "ax.set_ylim([ 0.1, 0.89 ])\n",
    "ax.set_xticks( np.arange( 0.1, 2, 0.1 ) )\n",
    "ax.set_yticks( np.arange( 0.1, 0.9, 0.1 ) )\n",
    "ax.set_ylabel( 'Class Prior' )\n",
    "ax.set_xlabel( 'Additive Smoothing Parameter' )\n",
    "cax = ax.pcolor( xx, yy, zz + 0.007, cmap='viridis' )\n",
    "fig.colorbar( cax  )\n",
    "plt.show()"
   ]
  },
  {
   "cell_type": "code",
   "execution_count": 893,
   "metadata": {
    "collapsed": false
   },
   "outputs": [
    {
     "name": "stdout",
     "output_type": "stream",
     "text": [
      "Accuracy: 0.968 (+/- 0.015)\n"
     ]
    }
   ],
   "source": [
    "hyperparams = { 'alpha' : 0.7, 'class_prior' : [0.9, 0.1] }\n",
    "model = partial( constructModel, \n",
    "                 preprocess = advancedPreprocess,\n",
    "                 vecparams = vecparams,\n",
    "                 hyperparams = hyperparams )\n",
    "printAccuracy(crossValScore( model ))"
   ]
  },
  {
   "cell_type": "code",
   "execution_count": 339,
   "metadata": {
    "collapsed": false
   },
   "outputs": [
    {
     "name": "stdout",
     "output_type": "stream",
     "text": [
      "Accuracy: 0.958 (+/- 0.03)\n"
     ]
    }
   ],
   "source": [
    "with open( 'vocab.txt' ) as f:\n",
    "    vocab = sum( [ l.split() for l in f.readlines() ], [] )\n",
    "\n",
    "vectorizer = CountVectorizer( binary = True, vocabulary = vocab, preprocessor = advancedPreprocess )\n",
    "spamEmails = getEmails( 'spam' ) \n",
    "hamEmails = getEmails( 'ham' )\n",
    "emails = spamEmails + hamEmails\n",
    "X = vectorizer.transform( emails )\n",
    "y = len( spamEmails ) * [0] + len( hamEmails ) * [1] \n",
    "\n",
    "params = {\n",
    "    'alpha' : 0.7, 'fit_prior' : True, \n",
    "    'class_prior' : ( 0.85, 0.15 )\n",
    "}\n",
    "scores = cross_val_score( MultinomialNB( **params ), X, y, cv=5 )\n",
    "print(\"Accuracy: %0.3f (+/- %0.2f)\" % (scores.mean(), scores.std() * 2))"
   ]
  }
 ],
 "metadata": {
  "anaconda-cloud": {},
  "kernelspec": {
   "display_name": "Python [conda root]",
   "language": "python",
   "name": "conda-root-py"
  },
  "language_info": {
   "codemirror_mode": {
    "name": "ipython",
    "version": 3
   },
   "file_extension": ".py",
   "mimetype": "text/x-python",
   "name": "python",
   "nbconvert_exporter": "python",
   "pygments_lexer": "ipython3",
   "version": "3.5.2"
  }
 },
 "nbformat": 4,
 "nbformat_minor": 1
}
