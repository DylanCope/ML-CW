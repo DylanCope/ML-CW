{
 "cells": [
  {
   "cell_type": "code",
   "execution_count": 24,
   "metadata": {
    "collapsed": false
   },
   "outputs": [
    {
     "name": "stdout",
     "output_type": "stream",
     "text": [
      "[('the', 1519), ('to', 1446), ('you', 1248), ('and', 1046), ('of', 853), ('a', 752), ('for', 734), ('your', 585), ('is', 540), ('with', 537), ('this', 535), ('in', 508), ('from', 443), ('by', 416), ('it', 361), ('will', 349), ('that', 341), ('i', 334), ('have', 297), ('or', 295), ('on', 289), ('be', 281), ('are', 277), ('can', 256), ('Aug', 234), ('our', 229), ('we', 226), ('as', 198), ('if', 191), ('mail', 189), ('do', 183), ('all', 181), ('not', 172), ('at', 166), ('id', 159), ('out', 154), ('money', 143), ('my', 137), ('how', 134), ('send', 132), ('get', 131), ('program', 129), ('people', 126), ('any', 125), ('more', 124), ('make', 124), ('order', 118), ('report', 118), ('one', 117), ('they', 114), ('I', 113), ('an', 108), ('no', 108), ('email', 107), ('address', 104), ('ESMTP', 103), ('time', 102), ('so', 95), ('was', 95), ('only', 93), ('just', 92), ('free', 92), ('business', 92), ('name', 90), ('list', 89), ('information', 88), ('please', 84), ('receive', 83), ('each', 83), ('up', 81), ('us', 80), ('about', 77), ('Jul', 77), ('want', 76), ('me', 76), ('them', 73), ('mailing', 73), ('over', 73), ('what', 71), ('localhost', 70), ('also', 69), ('work', 68), ('From', 68), ('but', 68), ('need', 66), ('We', 66), ('internet', 65), ('The', 65), ('like', 64), ('This', 64), ('when', 63), ('these', 62), ('addresses', 61), ('orders', 61), ('most', 60), ('am', 59), ('new', 59), ('would', 59), ('now', 57), ('who', 57)]\n",
      "------------------------------\n",
      "[('the', 6662), ('to', 4156), ('of', 3779), ('and', 3327), ('a', 3306), ('for', 2959), ('in', 2619), ('with', 2476), ('from', 2361), ('by', 2245), ('is', 1790), ('that', 1387), ('on', 1253), ('id', 1132), ('be', 1035), ('Aug', 994), ('it', 920), ('you', 899), ('this', 898), ('as', 856), ('ESMTP', 851), ('or', 776), ('i', 727), ('Jul', 710), ('are', 709), ('at', 637), ('I', 636), ('have', 630), ('an', 585), ('not', 574), ('your', 555), ('The', 516), ('but', 508), ('was', 485), ('will', 459), ('localhost', 456), ('Linux', 442), ('can', 401), ('has', 386), ('about', 378), ('which', 358), ('if', 351), ('one', 338), ('more', 337), ('some', 322), ('he', 313), ('would', 308), ('all', 308), ('language', 305), ('Oct', 304), ('up', 302), ('do', 300), ('Irish', 299), ('we', 298), ('his', 277), ('out', 276), ('my', 266), ('they', 263), ('any', 263), ('so', 257), ('no', 257), ('like', 253), ('what', 252), ('who', 245), ('other', 244), ('their', 243), ('use', 240), ('when', 237), ('there', 236), ('new', 235), ('From', 230), ('de', 224), ('sans', 223), ('been', 221), ('than', 218), ('list', 217), ('IMAP', 213), ('only', 211), ('also', 210), ('get', 205), ('Sep', 198), ('just', 198), ('its', 197), ('email', 196), ('how', 194), ('university', 192), ('bulk', 192), ('should', 186), ('may', 184), ('had', 181), ('our', 175), ('could', 170), ('linguistics', 170), ('me', 166), ('Group', 164), ('work', 161), ('into', 158), ('english', 155), ('lugh', 154), ('invoked', 154)]\n"
     ]
    }
   ],
   "source": [
    "import os\n",
    "import random\n",
    "import collections\n",
    "spam = []\n",
    "\n",
    "def initLists(folder):\n",
    "    a_list = []\n",
    "    file_list = os.listdir(folder)\n",
    "    for a_file in file_list:\n",
    "        f = open(folder + a_file, 'r')\n",
    "        a_list.append(f.read())\n",
    "    f.close()\n",
    "    return a_list\n",
    "\n",
    "# Takes as input a list of emails and associated spam/ham labels\n",
    "# and returns a tuple of label and a list of the words in a given email\n",
    "def processEmails(emails):\n",
    "    # Split the emails up into lists of words     \n",
    "    emailVectors = [(email[0], email[1].split()) for email in allEmails]\n",
    "    \n",
    "    # Create a list to hold tuples containing label and associated list of words for each email      \n",
    "    processedEmails = []\n",
    "    \n",
    "    for vector in emailVectors:\n",
    "        wordsIn = vector[1]\n",
    "        label   = vector[0]\n",
    "        wordsOut = []\n",
    "        for word in wordsIn:\n",
    "            if(word.isalpha() == 1):\n",
    "                wordsOut.append(word)          \n",
    "        processedEmails.append((label, wordsOut))        \n",
    "    \n",
    "    return processedEmails;\n",
    "    \n",
    "\n",
    "# Takes as input list of labels and associated words\n",
    "# and returns list of labels along with wordcount for each word in the email\n",
    "def countWordOccurances(processedList):\n",
    "    vectorList = []\n",
    "    for email in processedList:\n",
    "        label = email[0]\n",
    "        words = email[1]\n",
    "        \n",
    "        counter = collections.Counter(words)\n",
    "        vectorList.append((label,counter.items()))\n",
    "    return vectorList\n",
    "\n",
    "def probabilities(label,processedList):\n",
    "    spamWords = []\n",
    "    for email in processedList:\n",
    "        if(label == email[0]):\n",
    "            spamWords.append(email[1])\n",
    "        l = [item for sublist in spamWords for item in sublist]    \n",
    "    counter = collections.Counter(l).most_common(100) \n",
    "    return counter;\n",
    "\n",
    "# read spam and ham from respective directories\n",
    "spam = initLists(\"spam/\")\n",
    "ham  = initLists(\"Ham/\")\n",
    "\n",
    "# compose list of labels and associated emails\n",
    "allEmails = [('spam', email) for email in spam]\n",
    "allEmails += [('ham', email) for email in ham]\n",
    "    \n",
    "random.shuffle(allEmails)\n",
    "procEmails = processEmails(allEmails)\n",
    "# out = countWordOccurances(procEmails) \n",
    "\n",
    "print (probabilities(\"spam\",procEmails))\n",
    "print \"------------------------------\"\n",
    "print (probabilities(\"ham\",procEmails))\n",
    "\n",
    "# print out[1]\n"
   ]
  },
  {
   "cell_type": "code",
   "execution_count": null,
   "metadata": {
    "collapsed": true
   },
   "outputs": [],
   "source": []
  }
 ],
 "metadata": {
  "anaconda-cloud": {},
  "kernelspec": {
   "display_name": "Python [conda root]",
   "language": "python",
   "name": "conda-root-py"
  },
  "language_info": {
   "codemirror_mode": {
    "name": "ipython",
    "version": 2
   },
   "file_extension": ".py",
   "mimetype": "text/x-python",
   "name": "python",
   "nbconvert_exporter": "python",
   "pygments_lexer": "ipython2",
   "version": "2.7.12"
  }
 },
 "nbformat": 4,
 "nbformat_minor": 1
}
